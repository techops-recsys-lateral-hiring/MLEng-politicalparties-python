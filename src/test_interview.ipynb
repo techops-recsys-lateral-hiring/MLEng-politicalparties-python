{
 "cells": [
  {
   "cell_type": "code",
   "execution_count": 3,
   "metadata": {},
   "outputs": [
    {
     "name": "stderr",
     "output_type": "stream",
     "text": [
      "2024/03/21 17:47:25 INFO mlflow.tracking.fluent: Experiment with name 'MLflow' does not exist. Creating a new experiment.\n"
     ]
    },
    {
     "data": {
      "text/plain": [
       "<Experiment: artifact_location='file:///Users/meissanechami/MLEng-politicalparties-python/data/932178637015296266', creation_time=1711043245962, experiment_id='932178637015296266', last_update_time=1711043245962, lifecycle_stage='active', name='MLflow', tags={}>"
      ]
     },
     "execution_count": 3,
     "metadata": {},
     "output_type": "execute_result"
    }
   ],
   "source": [
    "from text_loader.loader import DataLoader\n",
    "from sklearn.model_selection import train_test_split\n",
    "from xgboost import XGBClassifier\n",
    "from sklearn.metrics import accuracy_score\n",
    "import mlflow\n",
    "mlflow.set_tracking_uri('file:///Users/meissanechami/MLEng-politicalparties-python/data/') #TODO: make as instruction for user env file maybe?\n",
    "mlflow.set_experiment(\"MLflow\")"
   ]
  },
  {
   "cell_type": "markdown",
   "metadata": {},
   "source": [
    "### Pre-processing"
   ]
  },
  {
   "cell_type": "code",
   "execution_count": 7,
   "metadata": {},
   "outputs": [
    {
     "name": "stderr",
     "output_type": "stream",
     "text": [
      "2024/03/21 17:48:40 WARNING mlflow.sklearn: Model was missing function: predict. Not logging python_function flavor!\n",
      "/opt/homebrew/Cellar/python@3.11/3.11.7_1/Frameworks/Python.framework/Versions/3.11/lib/python3.11/site-packages/_distutils_hack/__init__.py:18: UserWarning: Distutils was imported before Setuptools, but importing Setuptools also replaces the `distutils` module in `sys.modules`. This may lead to undesirable behaviors or errors. To avoid these issues, avoid using distutils directly, ensure that setuptools is installed in the traditional way (e.g. not an editable install), and/or make sure that setuptools is always imported before distutils.\n",
      "  warnings.warn(\n",
      "/opt/homebrew/Cellar/python@3.11/3.11.7_1/Frameworks/Python.framework/Versions/3.11/lib/python3.11/site-packages/_distutils_hack/__init__.py:33: UserWarning: Setuptools is replacing distutils.\n",
      "  warnings.warn(\"Setuptools is replacing distutils.\")\n",
      "2024/03/21 17:48:42 WARNING mlflow.sklearn: Model was missing function: predict. Not logging python_function flavor!\n"
     ]
    }
   ],
   "source": [
    "with mlflow.start_run() as r:\n",
    "    data_loader = DataLoader(filepath='../data/Tweets.csv')\n",
    "    processed_features = data_loader.preprocess_tweets()\n",
    "    labels = data_loader.preprocess_parties() - 1 #TODO: review why is that\n",
    "\n",
    "    model_name = f\"tfidf_vectorizer_latest\"\n",
    "    \n",
    "    mlflow.sklearn.save_model(data_loader.vectorizer, path=\"../data/models/vectorizer\", exist_ok=True)\n",
    "\n",
    "    model_name = f\"label_encoder_latest\"\n",
    "    \n",
    "    mlflow.sklearn.save_model(data_loader.encoder, path=\"../data/models/encoder\", exist_ok=True)\n",
    "\n",
    "    X_train, X_test, y_train, y_test = train_test_split(processed_features, labels, test_size=0.3)"
   ]
  },
  {
   "cell_type": "markdown",
   "metadata": {},
   "source": [
    "### Train & evaluate"
   ]
  },
  {
   "cell_type": "code",
   "execution_count": 9,
   "metadata": {},
   "outputs": [
    {
     "name": "stdout",
     "output_type": "stream",
     "text": [
      "  train_accuracy: 0.7414659132216385\n",
      "  accuracy: 0.6928563167431281\n"
     ]
    },
    {
     "name": "stderr",
     "output_type": "stream",
     "text": [
      "/opt/homebrew/Cellar/python@3.11/3.11.7_1/Frameworks/Python.framework/Versions/3.11/lib/python3.11/site-packages/_distutils_hack/__init__.py:18: UserWarning: Distutils was imported before Setuptools, but importing Setuptools also replaces the `distutils` module in `sys.modules`. This may lead to undesirable behaviors or errors. To avoid these issues, avoid using distutils directly, ensure that setuptools is installed in the traditional way (e.g. not an editable install), and/or make sure that setuptools is always imported before distutils.\n",
      "  warnings.warn(\n",
      "/opt/homebrew/Cellar/python@3.11/3.11.7_1/Frameworks/Python.framework/Versions/3.11/lib/python3.11/site-packages/_distutils_hack/__init__.py:33: UserWarning: Setuptools is replacing distutils.\n",
      "  warnings.warn(\"Setuptools is replacing distutils.\")\n"
     ]
    }
   ],
   "source": [
    "with mlflow.start_run():\n",
    "        model = XGBClassifier(booster='gbtree', max_depth=6, max_leaves=0)\n",
    "        model.fit(X_train, y_train)\n",
    "\n",
    "        train_accuracy = accuracy_score(y_train, model.predict(X_train))\n",
    "        accuracy = accuracy_score(y_test, model.predict(X_test))\n",
    "\n",
    "        print(\"  train_accuracy: %s\" % train_accuracy)\n",
    "        print(\"  accuracy: %s\" % accuracy)\n",
    "\n",
    "        params = model.get_xgb_params()\n",
    "\n",
    "        for param in params.keys():\n",
    "            mlflow.log_param(param, params[param])\n",
    "\n",
    "        mlflow.log_metric(\"train_acc\", train_accuracy)\n",
    "        mlflow.log_metric(\"test_acc\", accuracy)\n",
    "\n",
    "        model_name = f\"model_latest\"\n",
    "        mlflow.sklearn.save_model(model, path=\"../data/models/model\", exist_ok=True)"
   ]
  },
  {
   "cell_type": "code",
   "execution_count": null,
   "metadata": {},
   "outputs": [],
   "source": [
    "# TODO: user version tag instead of model_latest"
   ]
  }
 ],
 "metadata": {
  "kernelspec": {
   "display_name": "Python 3 (ipykernel)",
   "language": "python",
   "name": "python3"
  },
  "language_info": {
   "codemirror_mode": {
    "name": "ipython",
    "version": 3
   },
   "file_extension": ".py",
   "mimetype": "text/x-python",
   "name": "python",
   "nbconvert_exporter": "python",
   "pygments_lexer": "ipython3",
   "version": "3.11.7"
  }
 },
 "nbformat": 4,
 "nbformat_minor": 4
}

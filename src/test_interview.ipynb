{
 "cells": [
  {
   "cell_type": "code",
   "execution_count": 5,
   "metadata": {},
   "outputs": [],
   "source": [
    "from text_loader.loader import DataLoader\n",
    "from sklearn.model_selection import train_test_split\n",
    "from xgboost import XGBClassifier\n",
    "from sklearn.metrics import accuracy_score\n",
    "import joblib\n",
    "import mlflow\n",
    "import datetime"
   ]
  },
  {
   "cell_type": "markdown",
   "metadata": {},
   "source": [
    "### Pre-processing"
   ]
  },
  {
   "cell_type": "code",
   "execution_count": 10,
   "metadata": {},
   "outputs": [],
   "source": [
    "data_loader = DataLoader(filepath='../data/Tweets.csv')\n",
    "processed_features, labels = data_loader.preprocess()\n",
    "\n",
    "labels = labels - 1\n",
    "\n",
    "X_train, X_test, y_train, y_test = train_test_split(processed_features, labels, test_size=0.3)"
   ]
  },
  {
   "cell_type": "markdown",
   "metadata": {},
   "source": [
    "### Train & evaluate"
   ]
  },
  {
   "cell_type": "code",
   "execution_count": 38,
   "metadata": {},
   "outputs": [
    {
     "name": "stdout",
     "output_type": "stream",
     "text": [
      "  train_accuracy: 0.737252569313638\n",
      "  accuracy: 0.6972897952889472\n"
     ]
    },
    {
     "name": "stderr",
     "output_type": "stream",
     "text": [
      "Successfully registered model 'model_2024-03-19 11:39:00.483712'.\n",
      "Created version '1' of model 'model_2024-03-19 11:39:00.483712'.\n"
     ]
    }
   ],
   "source": [
    "mlflow.set_tracking_uri('file:///Users/cullywest/git/MLEng-politicalparties-python/data') \n",
    "mlflow.set_experiment(\"MLflow\")\n",
    "with mlflow.start_run():\n",
    "        model = XGBClassifier(booster='gbtree', max_depth=6, max_leaves=0)\n",
    "        model.fit(X_train, y_train)\n",
    "\n",
    "        train_accuracy = accuracy_score(y_train, model.predict(X_train))\n",
    "        accuracy = accuracy_score(y_test, model.predict(X_test))\n",
    "\n",
    "        print(\"  train_accuracy: %s\" % train_accuracy)\n",
    "        print(\"  accuracy: %s\" % accuracy)\n",
    "\n",
    "        params = model.get_xgb_params()\n",
    "\n",
    "        for param in params.keys():\n",
    "            mlflow.log_param(param, params[param])\n",
    "\n",
    "        mlflow.log_metric(\"train_acc\", train_accuracy)\n",
    "        mlflow.log_metric(\"test_acc\", accuracy)\n",
    "\n",
    "        # Log the model with a timestamp\n",
    "        timestamp = datetime.datetime.now()\n",
    "        model_name = f\"model_{timestamp}\"\n",
    "        mlflow.sklearn.log_model(model, artifact_path=\"test_path\", registered_model_name=model_name)"
   ]
  },
  {
   "cell_type": "code",
   "execution_count": 11,
   "metadata": {},
   "outputs": [
    {
     "name": "stdout",
     "output_type": "stream",
     "text": [
      "[1 0 0 ... 1 1 1]\n"
     ]
    }
   ],
   "source": [
    "print(labels)"
   ]
  },
  {
   "cell_type": "code",
   "execution_count": 13,
   "metadata": {},
   "outputs": [],
   "source": [
    "import mlflow.pyfunc"
   ]
  },
  {
   "cell_type": "code",
   "execution_count": 15,
   "metadata": {},
   "outputs": [
    {
     "name": "stdout",
     "output_type": "stream",
     "text": [
      "2024-03-15 11:25:28.997230\n"
     ]
    }
   ],
   "source": [
    "print(timestamp)"
   ]
  },
  {
   "cell_type": "code",
   "execution_count": 22,
   "metadata": {},
   "outputs": [
    {
     "data": {
      "text/plain": [
       "'file:///Users/cullywest/git/MLEng-politicalparties-python/data'"
      ]
     },
     "execution_count": 22,
     "metadata": {},
     "output_type": "execute_result"
    }
   ],
   "source": [
    "mlflow.get_tracking_uri()"
   ]
  },
  {
   "cell_type": "code",
   "execution_count": 35,
   "metadata": {},
   "outputs": [],
   "source": [
    "model = mlflow.pyfunc.load_model(model_uri=f\"models:/{model_name}/1\")"
   ]
  },
  {
   "cell_type": "code",
   "execution_count": 19,
   "metadata": {},
   "outputs": [],
   "source": [
    "from pprint import pprint\n",
    "from mlflow import MlflowClient\n",
    "client = MlflowClient()"
   ]
  },
  {
   "cell_type": "code",
   "execution_count": 49,
   "metadata": {},
   "outputs": [
    {
     "name": "stdout",
     "output_type": "stream",
     "text": [
      "{   'aliases': {},\n",
      "    'creation_timestamp': 1710524901210,\n",
      "    'description': None,\n",
      "    'last_updated_timestamp': 1710524901212,\n",
      "    'latest_versions': [   <ModelVersion: aliases=[], creation_timestamp=1710524901212, current_stage='None', description=None, last_updated_timestamp=1710524901212, name='model_2024-03-15 11:48:19.976403', run_id='362d7c5c4af8498f974292af5e578d00', run_link=None, source='file:///Users/cullywest/git/MLEng-politicalparties-python/data/918993356073278198/362d7c5c4af8498f974292af5e578d00/artifacts/test_path', status='READY', status_message=None, tags={}, user_id=None, version=1>],\n",
      "    'name': 'model_2024-03-15 11:48:19.976403',\n",
      "    'tags': {}}\n",
      "{   'aliases': {},\n",
      "    'creation_timestamp': 1710869941646,\n",
      "    'description': None,\n",
      "    'last_updated_timestamp': 1710869941648,\n",
      "    'latest_versions': [   <ModelVersion: aliases=[], creation_timestamp=1710869941648, current_stage='None', description=None, last_updated_timestamp=1710869941648, name='model_2024-03-19 11:39:00.483712', run_id='155d4c605728444da44863fd14ef2e8a', run_link=None, source='file:///Users/cullywest/git/MLEng-politicalparties-python/data/918993356073278198/155d4c605728444da44863fd14ef2e8a/artifacts/test_path', status='READY', status_message=None, tags={}, user_id=None, version=1>],\n",
      "    'name': 'model_2024-03-19 11:39:00.483712',\n",
      "    'tags': {}}\n",
      "{   'aliases': {},\n",
      "    'creation_timestamp': 1710953356038,\n",
      "    'description': None,\n",
      "    'last_updated_timestamp': 1710953356039,\n",
      "    'latest_versions': [   <ModelVersion: aliases=[], creation_timestamp=1710953356039, current_stage='None', description=None, last_updated_timestamp=1710953356039, name='tfidf_vectorizer_2024_03_20T10:49:15', run_id='5974a2e4185f44209f2e0bad52db7af7', run_link=None, source='file:///Users/cullywest/git/MLEng-politicalparties-python/data/918993356073278198/5974a2e4185f44209f2e0bad52db7af7/artifacts/vectorizer', status='READY', status_message=None, tags={}, user_id=None, version=1>],\n",
      "    'name': 'tfidf_vectorizer_2024_03_20T10:49:15',\n",
      "    'tags': {}}\n"
     ]
    }
   ],
   "source": [
    "for rm in client.search_registered_models():\n",
    "    pprint(dict(rm), indent=4)"
   ]
  },
  {
   "cell_type": "code",
   "execution_count": 37,
   "metadata": {},
   "outputs": [
    {
     "data": {
      "text/plain": [
       "array([0, 1, 1, ..., 1, 1, 0])"
      ]
     },
     "execution_count": 37,
     "metadata": {},
     "output_type": "execute_result"
    }
   ],
   "source": [
    "model.predict(X_test)"
   ]
  },
  {
   "cell_type": "code",
   "execution_count": 47,
   "metadata": {},
   "outputs": [
    {
     "name": "stderr",
     "output_type": "stream",
     "text": [
      "2024/03/20 10:49:15 WARNING mlflow.sklearn: Model was missing function: predict. Not logging python_function flavor!\n",
      "Successfully registered model 'tfidf_vectorizer_2024_03_20T10:49:15'.\n",
      "Created version '1' of model 'tfidf_vectorizer_2024_03_20T10:49:15'.\n"
     ]
    }
   ],
   "source": [
    "from sklearn.feature_extraction.text import TfidfVectorizer\n",
    "with mlflow.start_run() as r:\n",
    "    model = TfidfVectorizer(max_features=2500, min_df=1, max_df=0.8)\n",
    "    model.fit(data_loader.data.Tweet)\n",
    "    \n",
    "    timestamp = datetime.datetime.now().strftime(\"%Y_%m_%dT%H:%M:%S\")\n",
    "    model_name = f\"tfidf_vectorizer_{timestamp}\"\n",
    "    \n",
    "    mlflow.sklearn.log_model(model, artifact_path=\"vectorizer\", registered_model_name=model_name)"
   ]
  },
  {
   "cell_type": "code",
   "execution_count": 45,
   "metadata": {},
   "outputs": [
    {
     "name": "stdout",
     "output_type": "stream",
     "text": [
      "2024_03_20T10:48:13\n"
     ]
    }
   ],
   "source": [
    "timestamp = datetime.datetime.now().strftime(\"%Y_%m_%dT%H:%M:%S\")\n",
    "print(timestamp)"
   ]
  },
  {
   "cell_type": "code",
   "execution_count": 48,
   "metadata": {},
   "outputs": [
    {
     "data": {
      "text/plain": [
       "'tfidf_vectorizer_2024_03_20T10:49:15'"
      ]
     },
     "execution_count": 48,
     "metadata": {},
     "output_type": "execute_result"
    }
   ],
   "source": [
    "model_name"
   ]
  },
  {
   "cell_type": "code",
   "execution_count": null,
   "metadata": {},
   "outputs": [],
   "source": []
  }
 ],
 "metadata": {
  "kernelspec": {
   "display_name": "Python 3 (ipykernel)",
   "language": "python",
   "name": "python3"
  },
  "language_info": {
   "codemirror_mode": {
    "name": "ipython",
    "version": 3
   },
   "file_extension": ".py",
   "mimetype": "text/x-python",
   "name": "python",
   "nbconvert_exporter": "python",
   "pygments_lexer": "ipython3",
   "version": "3.9.6"
  }
 },
 "nbformat": 4,
 "nbformat_minor": 4
}
